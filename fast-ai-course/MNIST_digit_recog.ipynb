{
 "cells": [
  {
   "cell_type": "code",
   "execution_count": 1,
   "id": "05aad3e5",
   "metadata": {},
   "outputs": [],
   "source": [
    "import fastbook\n",
    "fastbook.setup_book()\n",
    "from fastai.vision.all import *\n",
    "from fastai.vision.widgets import *"
   ]
  },
  {
   "cell_type": "code",
   "execution_count": 2,
   "id": "1ad5d8f3",
   "metadata": {},
   "outputs": [],
   "source": [
    "matplotlib.rc('image', cmap='Greys')"
   ]
  },
  {
   "cell_type": "code",
   "execution_count": 3,
   "id": "f082acda",
   "metadata": {},
   "outputs": [],
   "source": [
    "path = untar_data(URLs.MNIST_SAMPLE)"
   ]
  },
  {
   "cell_type": "code",
   "execution_count": 4,
   "id": "66444fab",
   "metadata": {},
   "outputs": [],
   "source": [
    "Path.BASE_PATH = path"
   ]
  },
  {
   "cell_type": "code",
   "execution_count": 5,
   "id": "0a753cfe",
   "metadata": {},
   "outputs": [
    {
     "data": {
      "text/plain": [
       "(#3) [Path('valid'),Path('labels.csv'),Path('train')]"
      ]
     },
     "execution_count": 5,
     "metadata": {},
     "output_type": "execute_result"
    }
   ],
   "source": [
    "path.ls()"
   ]
  },
  {
   "cell_type": "code",
   "execution_count": 6,
   "id": "f6ef43b1",
   "metadata": {},
   "outputs": [
    {
     "data": {
      "text/plain": [
       "(#2) [Path('train/7'),Path('train/3')]"
      ]
     },
     "execution_count": 6,
     "metadata": {},
     "output_type": "execute_result"
    }
   ],
   "source": [
    "(path/'train').ls()"
   ]
  },
  {
   "cell_type": "code",
   "execution_count": 7,
   "id": "932d2bc2",
   "metadata": {},
   "outputs": [
    {
     "data": {
      "text/plain": [
       "(#6131) [Path('train/3/49081.png'),Path('train/3/51816.png'),Path('train/3/39566.png'),Path('train/3/24251.png'),Path('train/3/20989.png'),Path('train/3/29013.png'),Path('train/3/58832.png'),Path('train/3/9294.png'),Path('train/3/20023.png'),Path('train/3/36899.png'),Path('train/3/54952.png'),Path('train/3/45687.png'),Path('train/3/3949.png'),Path('train/3/29991.png'),Path('train/3/47090.png'),Path('train/3/10876.png'),Path('train/3/56823.png'),Path('train/3/25601.png'),Path('train/3/37205.png'),Path('train/3/6825.png')...]"
      ]
     },
     "execution_count": 7,
     "metadata": {},
     "output_type": "execute_result"
    }
   ],
   "source": [
    "# Load the training datasets into variables threes and sevens\n",
    "threes = (path/'train'/'3').ls()\n",
    "sevens = (path/'train'/'7').ls()\n",
    "threes"
   ]
  },
  {
   "cell_type": "code",
   "execution_count": 8,
   "id": "8fe6a59e",
   "metadata": {},
   "outputs": [
    {
     "data": {
      "text/plain": [
       "(torch.Size([6131, 784]), torch.Size([6265, 784]))"
      ]
     },
     "execution_count": 8,
     "metadata": {},
     "output_type": "execute_result"
    }
   ],
   "source": [
    "stacked_threes = (torch.stack([tensor(Image.open(o)) for o in threes]).float()/255).view(-1, 28*28)\n",
    "stacked_sevens = (torch.stack([tensor(Image.open(o)) for o in sevens]).float()/255).view(-1, 28*28)\n",
    "stacked_threes.shape, stacked_sevens.shape\n"
   ]
  },
  {
   "cell_type": "code",
   "execution_count": 9,
   "id": "389f9f87",
   "metadata": {},
   "outputs": [
    {
     "data": {
      "text/plain": [
       "(torch.Size([12396, 784]), torch.Size([12396]))"
      ]
     },
     "execution_count": 9,
     "metadata": {},
     "output_type": "execute_result"
    }
   ],
   "source": [
    "image_training_set = torch.cat([stacked_threes, stacked_sevens])\n",
    "# Create a label with 0 for threes and 1 for sevens\n",
    "image_training_labels = tensor([1]*len(stacked_threes) + [0]*len(stacked_sevens))\n",
    "image_training_set.shape, image_training_labels.shape"
   ]
  },
  {
   "cell_type": "code",
   "execution_count": 10,
   "id": "c5da9d2e",
   "metadata": {},
   "outputs": [
    {
     "data": {
      "text/plain": [
       "(torch.Size([784]), tensor(1))"
      ]
     },
     "execution_count": 10,
     "metadata": {},
     "output_type": "execute_result"
    }
   ],
   "source": [
    "# Now we need to zip the training set and labels together\n",
    "image_training_data = list(zip(image_training_set, image_training_labels))\n",
    "x,y = image_training_data[0]\n",
    "x.shape, y"
   ]
  },
  {
   "cell_type": "code",
   "execution_count": 11,
   "id": "501f85f0",
   "metadata": {},
   "outputs": [],
   "source": [
    "def init_weights(size, std = 1.0):\n",
    "    return (torch.randn(size) * std).requires_grad_()"
   ]
  },
  {
   "cell_type": "code",
   "execution_count": null,
   "id": "8c4e3a5b",
   "metadata": {},
   "outputs": [],
   "source": [
    "weights = init_weights((28*28, 1))\n"
   ]
  },
  {
   "cell_type": "code",
   "execution_count": 13,
   "id": "2923a4e5",
   "metadata": {},
   "outputs": [
    {
     "data": {
      "text/plain": [
       "tensor([0.3472], requires_grad=True)"
      ]
     },
     "execution_count": 13,
     "metadata": {},
     "output_type": "execute_result"
    }
   ],
   "source": [
    "bias = init_weights(1)\n",
    "bias"
   ]
  },
  {
   "cell_type": "code",
   "execution_count": 15,
   "id": "19c3ccf4",
   "metadata": {},
   "outputs": [
    {
     "data": {
      "text/plain": [
       "tensor([[ -4.3320],\n",
       "        [ -0.2067],\n",
       "        [ -1.4215],\n",
       "        ...,\n",
       "        [  5.2310],\n",
       "        [-11.2061],\n",
       "        [ -6.1952]], grad_fn=<AddBackward0>)"
      ]
     },
     "execution_count": 15,
     "metadata": {},
     "output_type": "execute_result"
    }
   ],
   "source": [
    "def linear(xb): return xb@weights + bias\n",
    "preds = linear(image_training_set)\n",
    "preds"
   ]
  },
  {
   "cell_type": "code",
   "execution_count": 24,
   "id": "6787ca93",
   "metadata": {},
   "outputs": [
    {
     "data": {
      "text/plain": [
       "0.4959973096847534"
      ]
     },
     "execution_count": 24,
     "metadata": {},
     "output_type": "execute_result"
    }
   ],
   "source": [
    "corrects = (preds<0.0).float() == image_training_labels\n",
    "# corrects, corrects.shape\n",
    "corrects.float().mean().item()"
   ]
  },
  {
   "cell_type": "code",
   "execution_count": 25,
   "id": "4fdb843a",
   "metadata": {},
   "outputs": [],
   "source": [
    "with torch.no_grad(): weights[0] *= 1.0001"
   ]
  },
  {
   "cell_type": "code",
   "execution_count": 26,
   "id": "35e5ca34",
   "metadata": {},
   "outputs": [
    {
     "data": {
      "text/plain": [
       "0.4959973096847534"
      ]
     },
     "execution_count": 26,
     "metadata": {},
     "output_type": "execute_result"
    }
   ],
   "source": [
    "preds = linear(image_training_set)\n",
    "corrects = (preds<0.0).float() == image_training_labels\n",
    "corrects.float().mean().item()"
   ]
  },
  {
   "cell_type": "code",
   "execution_count": 39,
   "id": "19001206",
   "metadata": {},
   "outputs": [
    {
     "data": {
      "text/plain": [
       "(torch.Size([784, 1]), torch.Size([12396, 1]), torch.Size([12396, 12396]))"
      ]
     },
     "execution_count": 39,
     "metadata": {},
     "output_type": "execute_result"
    }
   ],
   "source": [
    "weights.shape, preds.shape, corrects.shape\n",
    "\n"
   ]
  },
  {
   "cell_type": "code",
   "execution_count": 49,
   "id": "01a12dde",
   "metadata": {},
   "outputs": [],
   "source": [
    "def sigmoid(xb):\n",
    "    return 1/(1+torch.exp(-xb))"
   ]
  },
  {
   "cell_type": "code",
   "execution_count": 50,
   "id": "d47a6b11",
   "metadata": {},
   "outputs": [],
   "source": [
    "def mnist_loss(preds, targs):\n",
    "    predicts = sigmoid(preds)\n",
    "    return torch.where(targs ==1, 1-preds, preds).mean()"
   ]
  },
  {
   "cell_type": "code",
   "execution_count": null,
   "id": "cc8721fb",
   "metadata": {},
   "outputs": [],
   "source": []
  }
 ],
 "metadata": {
  "kernelspec": {
   "display_name": "deepLearningEnv",
   "language": "python",
   "name": "python3"
  },
  "language_info": {
   "codemirror_mode": {
    "name": "ipython",
    "version": 3
   },
   "file_extension": ".py",
   "mimetype": "text/x-python",
   "name": "python",
   "nbconvert_exporter": "python",
   "pygments_lexer": "ipython3",
   "version": "3.12.7"
  }
 },
 "nbformat": 4,
 "nbformat_minor": 5
}
