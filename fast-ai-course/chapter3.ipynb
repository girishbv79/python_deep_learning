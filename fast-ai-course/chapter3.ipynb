{
 "cells": [
  {
   "cell_type": "code",
   "execution_count": 3,
   "id": "ecbf5d28",
   "metadata": {},
   "outputs": [
    {
     "name": "stdout",
     "output_type": "stream",
     "text": [
      "Hello Chapter 3\n"
     ]
    }
   ],
   "source": [
    "print (\"Hello Chapter 3\")"
   ]
  },
  {
   "cell_type": "code",
   "execution_count": 4,
   "id": "66dd1143",
   "metadata": {},
   "outputs": [],
   "source": [
    "import fastbook\n",
    "fastbook.setup_book()"
   ]
  },
  {
   "cell_type": "code",
   "execution_count": 5,
   "id": "6e044e8e",
   "metadata": {},
   "outputs": [],
   "source": [
    "from fastai.vision.all import *\n",
    "from fastbook import *\n",
    "matplotlib.rc('image', cmap='Greys')"
   ]
  },
  {
   "cell_type": "code",
   "execution_count": 6,
   "id": "fd9068f5",
   "metadata": {},
   "outputs": [],
   "source": [
    "path = untar_data(URLs.MNIST_SAMPLE)\n",
    "Path.BASE_PATH = path"
   ]
  },
  {
   "cell_type": "code",
   "execution_count": 7,
   "id": "d8842cf5",
   "metadata": {},
   "outputs": [
    {
     "name": "stdout",
     "output_type": "stream",
     "text": [
      "C:\\Users\\giris\\.fastai\\data\\mnist_sample\n"
     ]
    },
    {
     "data": {
      "text/plain": [
       "(#2) [Path('train/3'),Path('train/7')]"
      ]
     },
     "execution_count": 7,
     "metadata": {},
     "output_type": "execute_result"
    }
   ],
   "source": [
    "print (Path.BASE_PATH)\n",
    "path.ls()\n",
    "(path/'train').ls()"
   ]
  },
  {
   "cell_type": "code",
   "execution_count": 8,
   "id": "bba28d22",
   "metadata": {},
   "outputs": [],
   "source": [
    "threes = (path/'train'/'3').ls().sorted()\n",
    "seven = (path/'train'/'7').ls().sorted()"
   ]
  },
  {
   "cell_type": "code",
   "execution_count": 9,
   "id": "ceef0bc1",
   "metadata": {},
   "outputs": [
    {
     "data": {
      "image/jpeg": "[encoded data removed]",
      "image/png": "[encoded data removed]",
      "text/plain": [
       "<PIL.PngImagePlugin.PngImageFile image mode=L size=28x28>"
      ]
     },
     "execution_count": 9,
     "metadata": {},
     "output_type": "execute_result"
    }
   ],
   "source": [
    "im3_path = threes[0]\n",
    "im3 = Image.open(im3_path)\n",
    "im3"
   ]
  },
  {
   "cell_type": "code",
   "execution_count": 10,
   "id": "028042b1",
   "metadata": {},
   "outputs": [
    {
     "data": {
      "text/plain": [
       "array([[  0,   0,   0,  24, 209, 254, 254, 254, 171,   0],\n",
       "       [  0,   0,  91, 137, 253, 254, 254, 254, 112,   0],\n",
       "       [ 40, 214, 250, 254, 254, 254, 254, 254,  34,   0],\n",
       "       [ 81, 247, 254, 254, 254, 254, 254, 254, 146,   0],\n",
       "       [  0, 110, 246, 254, 254, 254, 254, 254, 171,   0],\n",
       "       [  0,   0,  73,  89,  89,  93, 240, 254, 171,   0],\n",
       "       [  0,   0,   0,   0,   0,   1, 128, 254, 219,  31],\n",
       "       [  0,   0,   0,   0,   0,   7, 254, 254, 214,  28],\n",
       "       [  0,   0,   0,   0,   0, 138, 254, 254, 116,   0],\n",
       "       [  0,   0,   0,   0,  25, 240, 254, 254,  34,   0]], dtype=uint8)"
      ]
     },
     "execution_count": 10,
     "metadata": {},
     "output_type": "execute_result"
    }
   ],
   "source": [
    "# Convert the image to a numpy array\n",
    "im3_np = np.array(im3)\n",
    "im3_np[10:20, 10:20]"
   ]
  },
  {
   "cell_type": "code",
   "execution_count": 11,
   "id": "0579c510",
   "metadata": {},
   "outputs": [
    {
     "data": {
      "text/html": [
       "<style type=\"text/css\">\n",
       "#T_fcb1a_row0_col0, #T_fcb1a_row0_col2, #T_fcb1a_row0_col3, #T_fcb1a_row0_col4, #T_fcb1a_row0_col5, #T_fcb1a_row0_col6, #T_fcb1a_row1_col2, #T_fcb1a_row1_col3, #T_fcb1a_row1_col4, #T_fcb1a_row1_col5, #T_fcb1a_row1_col6, #T_fcb1a_row2_col3, #T_fcb1a_row2_col5, #T_fcb1a_row2_col6, #T_fcb1a_row2_col7, #T_fcb1a_row3_col3, #T_fcb1a_row3_col5, #T_fcb1a_row3_col6, #T_fcb1a_row3_col7, #T_fcb1a_row4_col4, #T_fcb1a_row4_col5, #T_fcb1a_row4_col6, #T_fcb1a_row4_col7, #T_fcb1a_row5_col5, #T_fcb1a_row5_col6, #T_fcb1a_row5_col7, #T_fcb1a_row6_col5, #T_fcb1a_row6_col6, #T_fcb1a_row6_col7, #T_fcb1a_row7_col3, #T_fcb1a_row7_col4, #T_fcb1a_row7_col5, #T_fcb1a_row7_col6, #T_fcb1a_row7_col7, #T_fcb1a_row8_col1, #T_fcb1a_row8_col2, #T_fcb1a_row8_col3, #T_fcb1a_row8_col4, #T_fcb1a_row8_col5, #T_fcb1a_row8_col6, #T_fcb1a_row8_col7, #T_fcb1a_row9_col3, #T_fcb1a_row9_col4, #T_fcb1a_row9_col5, #T_fcb1a_row9_col6, #T_fcb1a_row9_col7, #T_fcb1a_row10_col7, #T_fcb1a_row11_col7, #T_fcb1a_row11_col8, #T_fcb1a_row11_col9, #T_fcb1a_row12_col6, #T_fcb1a_row12_col7, #T_fcb1a_row13_col6, #T_fcb1a_row13_col7, #T_fcb1a_row14_col6, #T_fcb1a_row14_col7 {\n",
       "  font-size: 6pt;\n",
       "  background-color: #000000;\n",
       "  color: #f1f1f1;\n",
       "}\n",
       "#T_fcb1a_row0_col1, #T_fcb1a_row12_col8 {\n",
       "  font-size: 6pt;\n",
       "  background-color: #060606;\n",
       "  color: #f1f1f1;\n",
       "}\n",
       "#T_fcb1a_row0_col7, #T_fcb1a_row0_col8, #T_fcb1a_row0_col9, #T_fcb1a_row1_col9, #T_fcb1a_row2_col0, #T_fcb1a_row2_col9, #T_fcb1a_row3_col0, #T_fcb1a_row3_col1, #T_fcb1a_row3_col9, #T_fcb1a_row4_col0, #T_fcb1a_row4_col1, #T_fcb1a_row4_col9, #T_fcb1a_row5_col0, #T_fcb1a_row5_col1, #T_fcb1a_row5_col2, #T_fcb1a_row5_col9, #T_fcb1a_row6_col0, #T_fcb1a_row6_col1, #T_fcb1a_row6_col9, #T_fcb1a_row7_col9, #T_fcb1a_row8_col9, #T_fcb1a_row9_col0, #T_fcb1a_row9_col9, #T_fcb1a_row10_col0, #T_fcb1a_row10_col1, #T_fcb1a_row10_col9, #T_fcb1a_row11_col0, #T_fcb1a_row11_col1, #T_fcb1a_row11_col2, #T_fcb1a_row11_col3, #T_fcb1a_row11_col4, #T_fcb1a_row11_col5, #T_fcb1a_row11_col6, #T_fcb1a_row12_col0, #T_fcb1a_row12_col1, #T_fcb1a_row12_col2, #T_fcb1a_row12_col3, #T_fcb1a_row12_col4, #T_fcb1a_row13_col0, #T_fcb1a_row13_col1, #T_fcb1a_row13_col2, #T_fcb1a_row13_col3, #T_fcb1a_row13_col4, #T_fcb1a_row13_col9, #T_fcb1a_row14_col0, #T_fcb1a_row14_col1, #T_fcb1a_row14_col2, #T_fcb1a_row14_col3, #T_fcb1a_row14_col9 {\n",
       "  font-size: 6pt;\n",
       "  background-color: #ffffff;\n",
       "  color: #000000;\n",
       "}\n",
       "#T_fcb1a_row1_col0 {\n",
       "  font-size: 6pt;\n",
       "  background-color: #e7e7e7;\n",
       "  color: #000000;\n",
       "}\n",
       "#T_fcb1a_row1_col1 {\n",
       "  font-size: 6pt;\n",
       "  background-color: #111111;\n",
       "  color: #f1f1f1;\n",
       "}\n",
       "#T_fcb1a_row1_col7 {\n",
       "  font-size: 6pt;\n",
       "  background-color: #181818;\n",
       "  color: #f1f1f1;\n",
       "}\n",
       "#T_fcb1a_row1_col8 {\n",
       "  font-size: 6pt;\n",
       "  background-color: #cacaca;\n",
       "  color: #000000;\n",
       "}\n",
       "#T_fcb1a_row2_col1 {\n",
       "  font-size: 6pt;\n",
       "  background-color: #afafaf;\n",
       "  color: #000000;\n",
       "}\n",
       "#T_fcb1a_row2_col2 {\n",
       "  font-size: 6pt;\n",
       "  background-color: #0c0c0c;\n",
       "  color: #f1f1f1;\n",
       "}\n",
       "#T_fcb1a_row2_col4 {\n",
       "  font-size: 6pt;\n",
       "  background-color: #232323;\n",
       "  color: #f1f1f1;\n",
       "}\n",
       "#T_fcb1a_row2_col8 {\n",
       "  font-size: 6pt;\n",
       "  background-color: #6e6e6e;\n",
       "  color: #f1f1f1;\n",
       "}\n",
       "#T_fcb1a_row3_col2 {\n",
       "  font-size: 6pt;\n",
       "  background-color: #3a3a3a;\n",
       "  color: #f1f1f1;\n",
       "}\n",
       "#T_fcb1a_row3_col4 {\n",
       "  font-size: 6pt;\n",
       "  background-color: #363636;\n",
       "  color: #f1f1f1;\n",
       "}\n",
       "#T_fcb1a_row3_col8, #T_fcb1a_row7_col8, #T_fcb1a_row14_col8 {\n",
       "  font-size: 6pt;\n",
       "  background-color: #ebebeb;\n",
       "  color: #000000;\n",
       "}\n",
       "#T_fcb1a_row4_col2 {\n",
       "  font-size: 6pt;\n",
       "  background-color: #c7c7c7;\n",
       "  color: #000000;\n",
       "}\n",
       "#T_fcb1a_row4_col3 {\n",
       "  font-size: 6pt;\n",
       "  background-color: #3c3c3c;\n",
       "  color: #f1f1f1;\n",
       "}\n",
       "#T_fcb1a_row4_col8 {\n",
       "  font-size: 6pt;\n",
       "  background-color: #e5e5e5;\n",
       "  color: #000000;\n",
       "}\n",
       "#T_fcb1a_row5_col3 {\n",
       "  font-size: 6pt;\n",
       "  background-color: #f4f4f4;\n",
       "  color: #000000;\n",
       "}\n",
       "#T_fcb1a_row5_col4 {\n",
       "  font-size: 6pt;\n",
       "  background-color: #383838;\n",
       "  color: #f1f1f1;\n",
       "}\n",
       "#T_fcb1a_row5_col8, #T_fcb1a_row9_col8, #T_fcb1a_row10_col8 {\n",
       "  font-size: 6pt;\n",
       "  background-color: #474747;\n",
       "  color: #f1f1f1;\n",
       "}\n",
       "#T_fcb1a_row6_col2 {\n",
       "  font-size: 6pt;\n",
       "  background-color: #c1c1c1;\n",
       "  color: #000000;\n",
       "}\n",
       "#T_fcb1a_row6_col3, #T_fcb1a_row13_col5 {\n",
       "  font-size: 6pt;\n",
       "  background-color: #8a8a8a;\n",
       "  color: #f1f1f1;\n",
       "}\n",
       "#T_fcb1a_row6_col4 {\n",
       "  font-size: 6pt;\n",
       "  background-color: #010101;\n",
       "  color: #f1f1f1;\n",
       "}\n",
       "#T_fcb1a_row6_col8 {\n",
       "  font-size: 6pt;\n",
       "  background-color: #939393;\n",
       "  color: #f1f1f1;\n",
       "}\n",
       "#T_fcb1a_row7_col0 {\n",
       "  font-size: 6pt;\n",
       "  background-color: #b9b9b9;\n",
       "  color: #000000;\n",
       "}\n",
       "#T_fcb1a_row7_col1 {\n",
       "  font-size: 6pt;\n",
       "  background-color: #282828;\n",
       "  color: #f1f1f1;\n",
       "}\n",
       "#T_fcb1a_row7_col2 {\n",
       "  font-size: 6pt;\n",
       "  background-color: #050505;\n",
       "  color: #f1f1f1;\n",
       "}\n",
       "#T_fcb1a_row8_col0 {\n",
       "  font-size: 6pt;\n",
       "  background-color: #444444;\n",
       "  color: #f1f1f1;\n",
       "}\n",
       "#T_fcb1a_row8_col8 {\n",
       "  font-size: 6pt;\n",
       "  background-color: #686868;\n",
       "  color: #f1f1f1;\n",
       "}\n",
       "#T_fcb1a_row9_col1 {\n",
       "  font-size: 6pt;\n",
       "  background-color: #a7a7a7;\n",
       "  color: #f1f1f1;\n",
       "}\n",
       "#T_fcb1a_row9_col2 {\n",
       "  font-size: 6pt;\n",
       "  background-color: #090909;\n",
       "  color: #f1f1f1;\n",
       "}\n",
       "#T_fcb1a_row10_col2 {\n",
       "  font-size: 6pt;\n",
       "  background-color: #d1d1d1;\n",
       "  color: #000000;\n",
       "}\n",
       "#T_fcb1a_row10_col3, #T_fcb1a_row10_col4 {\n",
       "  font-size: 6pt;\n",
       "  background-color: #c3c3c3;\n",
       "  color: #000000;\n",
       "}\n",
       "#T_fcb1a_row10_col5 {\n",
       "  font-size: 6pt;\n",
       "  background-color: #bfbfbf;\n",
       "  color: #000000;\n",
       "}\n",
       "#T_fcb1a_row10_col6 {\n",
       "  font-size: 6pt;\n",
       "  background-color: #212121;\n",
       "  color: #f1f1f1;\n",
       "}\n",
       "#T_fcb1a_row12_col5 {\n",
       "  font-size: 6pt;\n",
       "  background-color: #fcfcfc;\n",
       "  color: #000000;\n",
       "}\n",
       "#T_fcb1a_row12_col9 {\n",
       "  font-size: 6pt;\n",
       "  background-color: #1c1c1c;\n",
       "  color: #f1f1f1;\n",
       "}\n",
       "#T_fcb1a_row13_col8 {\n",
       "  font-size: 6pt;\n",
       "  background-color: #8e8e8e;\n",
       "  color: #f1f1f1;\n",
       "}\n",
       "#T_fcb1a_row14_col4 {\n",
       "  font-size: 6pt;\n",
       "  background-color: #f3f3f3;\n",
       "  color: #000000;\n",
       "}\n",
       "#T_fcb1a_row14_col5 {\n",
       "  font-size: 6pt;\n",
       "  background-color: #101010;\n",
       "  color: #f1f1f1;\n",
       "}\n",
       "</style>\n",
       "<table id=\"T_fcb1a\">\n",
       "  <thead>\n",
       "    <tr>\n",
       "      <th class=\"blank level0\" >&nbsp;</th>\n",
       "      <th id=\"T_fcb1a_level0_col0\" class=\"col_heading level0 col0\" >0</th>\n",
       "      <th id=\"T_fcb1a_level0_col1\" class=\"col_heading level0 col1\" >1</th>\n",
       "      <th id=\"T_fcb1a_level0_col2\" class=\"col_heading level0 col2\" >2</th>\n",
       "      <th id=\"T_fcb1a_level0_col3\" class=\"col_heading level0 col3\" >3</th>\n",
       "      <th id=\"T_fcb1a_level0_col4\" class=\"col_heading level0 col4\" >4</th>\n",
       "      <th id=\"T_fcb1a_level0_col5\" class=\"col_heading level0 col5\" >5</th>\n",
       "      <th id=\"T_fcb1a_level0_col6\" class=\"col_heading level0 col6\" >6</th>\n",
       "      <th id=\"T_fcb1a_level0_col7\" class=\"col_heading level0 col7\" >7</th>\n",
       "      <th id=\"T_fcb1a_level0_col8\" class=\"col_heading level0 col8\" >8</th>\n",
       "      <th id=\"T_fcb1a_level0_col9\" class=\"col_heading level0 col9\" >9</th>\n",
       "    </tr>\n",
       "  </thead>\n",
       "  <tbody>\n",
       "    <tr>\n",
       "      <th id=\"T_fcb1a_level0_row0\" class=\"row_heading level0 row0\" >0</th>\n",
       "      <td id=\"T_fcb1a_row0_col0\" class=\"data row0 col0\" >103</td>\n",
       "      <td id=\"T_fcb1a_row0_col1\" class=\"data row0 col1\" >242</td>\n",
       "      <td id=\"T_fcb1a_row0_col2\" class=\"data row0 col2\" >254</td>\n",
       "      <td id=\"T_fcb1a_row0_col3\" class=\"data row0 col3\" >254</td>\n",
       "      <td id=\"T_fcb1a_row0_col4\" class=\"data row0 col4\" >254</td>\n",
       "      <td id=\"T_fcb1a_row0_col5\" class=\"data row0 col5\" >254</td>\n",
       "      <td id=\"T_fcb1a_row0_col6\" class=\"data row0 col6\" >254</td>\n",
       "      <td id=\"T_fcb1a_row0_col7\" class=\"data row0 col7\" >66</td>\n",
       "      <td id=\"T_fcb1a_row0_col8\" class=\"data row0 col8\" >0</td>\n",
       "      <td id=\"T_fcb1a_row0_col9\" class=\"data row0 col9\" >0</td>\n",
       "    </tr>\n",
       "    <tr>\n",
       "      <th id=\"T_fcb1a_level0_row1\" class=\"row_heading level0 row1\" >1</th>\n",
       "      <td id=\"T_fcb1a_row1_col0\" class=\"data row1 col0\" >18</td>\n",
       "      <td id=\"T_fcb1a_row1_col1\" class=\"data row1 col1\" >232</td>\n",
       "      <td id=\"T_fcb1a_row1_col2\" class=\"data row1 col2\" >254</td>\n",
       "      <td id=\"T_fcb1a_row1_col3\" class=\"data row1 col3\" >254</td>\n",
       "      <td id=\"T_fcb1a_row1_col4\" class=\"data row1 col4\" >254</td>\n",
       "      <td id=\"T_fcb1a_row1_col5\" class=\"data row1 col5\" >254</td>\n",
       "      <td id=\"T_fcb1a_row1_col6\" class=\"data row1 col6\" >254</td>\n",
       "      <td id=\"T_fcb1a_row1_col7\" class=\"data row1 col7\" >238</td>\n",
       "      <td id=\"T_fcb1a_row1_col8\" class=\"data row1 col8\" >70</td>\n",
       "      <td id=\"T_fcb1a_row1_col9\" class=\"data row1 col9\" >0</td>\n",
       "    </tr>\n",
       "    <tr>\n",
       "      <th id=\"T_fcb1a_level0_row2\" class=\"row_heading level0 row2\" >2</th>\n",
       "      <td id=\"T_fcb1a_row2_col0\" class=\"data row2 col0\" >0</td>\n",
       "      <td id=\"T_fcb1a_row2_col1\" class=\"data row2 col1\" >104</td>\n",
       "      <td id=\"T_fcb1a_row2_col2\" class=\"data row2 col2\" >244</td>\n",
       "      <td id=\"T_fcb1a_row2_col3\" class=\"data row2 col3\" >254</td>\n",
       "      <td id=\"T_fcb1a_row2_col4\" class=\"data row2 col4\" >224</td>\n",
       "      <td id=\"T_fcb1a_row2_col5\" class=\"data row2 col5\" >254</td>\n",
       "      <td id=\"T_fcb1a_row2_col6\" class=\"data row2 col6\" >254</td>\n",
       "      <td id=\"T_fcb1a_row2_col7\" class=\"data row2 col7\" >254</td>\n",
       "      <td id=\"T_fcb1a_row2_col8\" class=\"data row2 col8\" >141</td>\n",
       "      <td id=\"T_fcb1a_row2_col9\" class=\"data row2 col9\" >0</td>\n",
       "    </tr>\n",
       "    <tr>\n",
       "      <th id=\"T_fcb1a_level0_row3\" class=\"row_heading level0 row3\" >3</th>\n",
       "      <td id=\"T_fcb1a_row3_col0\" class=\"data row3 col0\" >0</td>\n",
       "      <td id=\"T_fcb1a_row3_col1\" class=\"data row3 col1\" >0</td>\n",
       "      <td id=\"T_fcb1a_row3_col2\" class=\"data row3 col2\" >207</td>\n",
       "      <td id=\"T_fcb1a_row3_col3\" class=\"data row3 col3\" >254</td>\n",
       "      <td id=\"T_fcb1a_row3_col4\" class=\"data row3 col4\" >210</td>\n",
       "      <td id=\"T_fcb1a_row3_col5\" class=\"data row3 col5\" >254</td>\n",
       "      <td id=\"T_fcb1a_row3_col6\" class=\"data row3 col6\" >254</td>\n",
       "      <td id=\"T_fcb1a_row3_col7\" class=\"data row3 col7\" >254</td>\n",
       "      <td id=\"T_fcb1a_row3_col8\" class=\"data row3 col8\" >34</td>\n",
       "      <td id=\"T_fcb1a_row3_col9\" class=\"data row3 col9\" >0</td>\n",
       "    </tr>\n",
       "    <tr>\n",
       "      <th id=\"T_fcb1a_level0_row4\" class=\"row_heading level0 row4\" >4</th>\n",
       "      <td id=\"T_fcb1a_row4_col0\" class=\"data row4 col0\" >0</td>\n",
       "      <td id=\"T_fcb1a_row4_col1\" class=\"data row4 col1\" >0</td>\n",
       "      <td id=\"T_fcb1a_row4_col2\" class=\"data row4 col2\" >84</td>\n",
       "      <td id=\"T_fcb1a_row4_col3\" class=\"data row4 col3\" >206</td>\n",
       "      <td id=\"T_fcb1a_row4_col4\" class=\"data row4 col4\" >254</td>\n",
       "      <td id=\"T_fcb1a_row4_col5\" class=\"data row4 col5\" >254</td>\n",
       "      <td id=\"T_fcb1a_row4_col6\" class=\"data row4 col6\" >254</td>\n",
       "      <td id=\"T_fcb1a_row4_col7\" class=\"data row4 col7\" >254</td>\n",
       "      <td id=\"T_fcb1a_row4_col8\" class=\"data row4 col8\" >41</td>\n",
       "      <td id=\"T_fcb1a_row4_col9\" class=\"data row4 col9\" >0</td>\n",
       "    </tr>\n",
       "    <tr>\n",
       "      <th id=\"T_fcb1a_level0_row5\" class=\"row_heading level0 row5\" >5</th>\n",
       "      <td id=\"T_fcb1a_row5_col0\" class=\"data row5 col0\" >0</td>\n",
       "      <td id=\"T_fcb1a_row5_col1\" class=\"data row5 col1\" >0</td>\n",
       "      <td id=\"T_fcb1a_row5_col2\" class=\"data row5 col2\" >0</td>\n",
       "      <td id=\"T_fcb1a_row5_col3\" class=\"data row5 col3\" >24</td>\n",
       "      <td id=\"T_fcb1a_row5_col4\" class=\"data row5 col4\" >209</td>\n",
       "      <td id=\"T_fcb1a_row5_col5\" class=\"data row5 col5\" >254</td>\n",
       "      <td id=\"T_fcb1a_row5_col6\" class=\"data row5 col6\" >254</td>\n",
       "      <td id=\"T_fcb1a_row5_col7\" class=\"data row5 col7\" >254</td>\n",
       "      <td id=\"T_fcb1a_row5_col8\" class=\"data row5 col8\" >171</td>\n",
       "      <td id=\"T_fcb1a_row5_col9\" class=\"data row5 col9\" >0</td>\n",
       "    </tr>\n",
       "    <tr>\n",
       "      <th id=\"T_fcb1a_level0_row6\" class=\"row_heading level0 row6\" >6</th>\n",
       "      <td id=\"T_fcb1a_row6_col0\" class=\"data row6 col0\" >0</td>\n",
       "      <td id=\"T_fcb1a_row6_col1\" class=\"data row6 col1\" >0</td>\n",
       "      <td id=\"T_fcb1a_row6_col2\" class=\"data row6 col2\" >91</td>\n",
       "      <td id=\"T_fcb1a_row6_col3\" class=\"data row6 col3\" >137</td>\n",
       "      <td id=\"T_fcb1a_row6_col4\" class=\"data row6 col4\" >253</td>\n",
       "      <td id=\"T_fcb1a_row6_col5\" class=\"data row6 col5\" >254</td>\n",
       "      <td id=\"T_fcb1a_row6_col6\" class=\"data row6 col6\" >254</td>\n",
       "      <td id=\"T_fcb1a_row6_col7\" class=\"data row6 col7\" >254</td>\n",
       "      <td id=\"T_fcb1a_row6_col8\" class=\"data row6 col8\" >112</td>\n",
       "      <td id=\"T_fcb1a_row6_col9\" class=\"data row6 col9\" >0</td>\n",
       "    </tr>\n",
       "    <tr>\n",
       "      <th id=\"T_fcb1a_level0_row7\" class=\"row_heading level0 row7\" >7</th>\n",
       "      <td id=\"T_fcb1a_row7_col0\" class=\"data row7 col0\" >40</td>\n",
       "      <td id=\"T_fcb1a_row7_col1\" class=\"data row7 col1\" >214</td>\n",
       "      <td id=\"T_fcb1a_row7_col2\" class=\"data row7 col2\" >250</td>\n",
       "      <td id=\"T_fcb1a_row7_col3\" class=\"data row7 col3\" >254</td>\n",
       "      <td id=\"T_fcb1a_row7_col4\" class=\"data row7 col4\" >254</td>\n",
       "      <td id=\"T_fcb1a_row7_col5\" class=\"data row7 col5\" >254</td>\n",
       "      <td id=\"T_fcb1a_row7_col6\" class=\"data row7 col6\" >254</td>\n",
       "      <td id=\"T_fcb1a_row7_col7\" class=\"data row7 col7\" >254</td>\n",
       "      <td id=\"T_fcb1a_row7_col8\" class=\"data row7 col8\" >34</td>\n",
       "      <td id=\"T_fcb1a_row7_col9\" class=\"data row7 col9\" >0</td>\n",
       "    </tr>\n",
       "    <tr>\n",
       "      <th id=\"T_fcb1a_level0_row8\" class=\"row_heading level0 row8\" >8</th>\n",
       "      <td id=\"T_fcb1a_row8_col0\" class=\"data row8 col0\" >81</td>\n",
       "      <td id=\"T_fcb1a_row8_col1\" class=\"data row8 col1\" >247</td>\n",
       "      <td id=\"T_fcb1a_row8_col2\" class=\"data row8 col2\" >254</td>\n",
       "      <td id=\"T_fcb1a_row8_col3\" class=\"data row8 col3\" >254</td>\n",
       "      <td id=\"T_fcb1a_row8_col4\" class=\"data row8 col4\" >254</td>\n",
       "      <td id=\"T_fcb1a_row8_col5\" class=\"data row8 col5\" >254</td>\n",
       "      <td id=\"T_fcb1a_row8_col6\" class=\"data row8 col6\" >254</td>\n",
       "      <td id=\"T_fcb1a_row8_col7\" class=\"data row8 col7\" >254</td>\n",
       "      <td id=\"T_fcb1a_row8_col8\" class=\"data row8 col8\" >146</td>\n",
       "      <td id=\"T_fcb1a_row8_col9\" class=\"data row8 col9\" >0</td>\n",
       "    </tr>\n",
       "    <tr>\n",
       "      <th id=\"T_fcb1a_level0_row9\" class=\"row_heading level0 row9\" >9</th>\n",
       "      <td id=\"T_fcb1a_row9_col0\" class=\"data row9 col0\" >0</td>\n",
       "      <td id=\"T_fcb1a_row9_col1\" class=\"data row9 col1\" >110</td>\n",
       "      <td id=\"T_fcb1a_row9_col2\" class=\"data row9 col2\" >246</td>\n",
       "      <td id=\"T_fcb1a_row9_col3\" class=\"data row9 col3\" >254</td>\n",
       "      <td id=\"T_fcb1a_row9_col4\" class=\"data row9 col4\" >254</td>\n",
       "      <td id=\"T_fcb1a_row9_col5\" class=\"data row9 col5\" >254</td>\n",
       "      <td id=\"T_fcb1a_row9_col6\" class=\"data row9 col6\" >254</td>\n",
       "      <td id=\"T_fcb1a_row9_col7\" class=\"data row9 col7\" >254</td>\n",
       "      <td id=\"T_fcb1a_row9_col8\" class=\"data row9 col8\" >171</td>\n",
       "      <td id=\"T_fcb1a_row9_col9\" class=\"data row9 col9\" >0</td>\n",
       "    </tr>\n",
       "    <tr>\n",
       "      <th id=\"T_fcb1a_level0_row10\" class=\"row_heading level0 row10\" >10</th>\n",
       "      <td id=\"T_fcb1a_row10_col0\" class=\"data row10 col0\" >0</td>\n",
       "      <td id=\"T_fcb1a_row10_col1\" class=\"data row10 col1\" >0</td>\n",
       "      <td id=\"T_fcb1a_row10_col2\" class=\"data row10 col2\" >73</td>\n",
       "      <td id=\"T_fcb1a_row10_col3\" class=\"data row10 col3\" >89</td>\n",
       "      <td id=\"T_fcb1a_row10_col4\" class=\"data row10 col4\" >89</td>\n",
       "      <td id=\"T_fcb1a_row10_col5\" class=\"data row10 col5\" >93</td>\n",
       "      <td id=\"T_fcb1a_row10_col6\" class=\"data row10 col6\" >240</td>\n",
       "      <td id=\"T_fcb1a_row10_col7\" class=\"data row10 col7\" >254</td>\n",
       "      <td id=\"T_fcb1a_row10_col8\" class=\"data row10 col8\" >171</td>\n",
       "      <td id=\"T_fcb1a_row10_col9\" class=\"data row10 col9\" >0</td>\n",
       "    </tr>\n",
       "    <tr>\n",
       "      <th id=\"T_fcb1a_level0_row11\" class=\"row_heading level0 row11\" >11</th>\n",
       "      <td id=\"T_fcb1a_row11_col0\" class=\"data row11 col0\" >0</td>\n",
       "      <td id=\"T_fcb1a_row11_col1\" class=\"data row11 col1\" >0</td>\n",
       "      <td id=\"T_fcb1a_row11_col2\" class=\"data row11 col2\" >0</td>\n",
       "      <td id=\"T_fcb1a_row11_col3\" class=\"data row11 col3\" >0</td>\n",
       "      <td id=\"T_fcb1a_row11_col4\" class=\"data row11 col4\" >0</td>\n",
       "      <td id=\"T_fcb1a_row11_col5\" class=\"data row11 col5\" >1</td>\n",
       "      <td id=\"T_fcb1a_row11_col6\" class=\"data row11 col6\" >128</td>\n",
       "      <td id=\"T_fcb1a_row11_col7\" class=\"data row11 col7\" >254</td>\n",
       "      <td id=\"T_fcb1a_row11_col8\" class=\"data row11 col8\" >219</td>\n",
       "      <td id=\"T_fcb1a_row11_col9\" class=\"data row11 col9\" >31</td>\n",
       "    </tr>\n",
       "    <tr>\n",
       "      <th id=\"T_fcb1a_level0_row12\" class=\"row_heading level0 row12\" >12</th>\n",
       "      <td id=\"T_fcb1a_row12_col0\" class=\"data row12 col0\" >0</td>\n",
       "      <td id=\"T_fcb1a_row12_col1\" class=\"data row12 col1\" >0</td>\n",
       "      <td id=\"T_fcb1a_row12_col2\" class=\"data row12 col2\" >0</td>\n",
       "      <td id=\"T_fcb1a_row12_col3\" class=\"data row12 col3\" >0</td>\n",
       "      <td id=\"T_fcb1a_row12_col4\" class=\"data row12 col4\" >0</td>\n",
       "      <td id=\"T_fcb1a_row12_col5\" class=\"data row12 col5\" >7</td>\n",
       "      <td id=\"T_fcb1a_row12_col6\" class=\"data row12 col6\" >254</td>\n",
       "      <td id=\"T_fcb1a_row12_col7\" class=\"data row12 col7\" >254</td>\n",
       "      <td id=\"T_fcb1a_row12_col8\" class=\"data row12 col8\" >214</td>\n",
       "      <td id=\"T_fcb1a_row12_col9\" class=\"data row12 col9\" >28</td>\n",
       "    </tr>\n",
       "    <tr>\n",
       "      <th id=\"T_fcb1a_level0_row13\" class=\"row_heading level0 row13\" >13</th>\n",
       "      <td id=\"T_fcb1a_row13_col0\" class=\"data row13 col0\" >0</td>\n",
       "      <td id=\"T_fcb1a_row13_col1\" class=\"data row13 col1\" >0</td>\n",
       "      <td id=\"T_fcb1a_row13_col2\" class=\"data row13 col2\" >0</td>\n",
       "      <td id=\"T_fcb1a_row13_col3\" class=\"data row13 col3\" >0</td>\n",
       "      <td id=\"T_fcb1a_row13_col4\" class=\"data row13 col4\" >0</td>\n",
       "      <td id=\"T_fcb1a_row13_col5\" class=\"data row13 col5\" >138</td>\n",
       "      <td id=\"T_fcb1a_row13_col6\" class=\"data row13 col6\" >254</td>\n",
       "      <td id=\"T_fcb1a_row13_col7\" class=\"data row13 col7\" >254</td>\n",
       "      <td id=\"T_fcb1a_row13_col8\" class=\"data row13 col8\" >116</td>\n",
       "      <td id=\"T_fcb1a_row13_col9\" class=\"data row13 col9\" >0</td>\n",
       "    </tr>\n",
       "    <tr>\n",
       "      <th id=\"T_fcb1a_level0_row14\" class=\"row_heading level0 row14\" >14</th>\n",
       "      <td id=\"T_fcb1a_row14_col0\" class=\"data row14 col0\" >0</td>\n",
       "      <td id=\"T_fcb1a_row14_col1\" class=\"data row14 col1\" >0</td>\n",
       "      <td id=\"T_fcb1a_row14_col2\" class=\"data row14 col2\" >0</td>\n",
       "      <td id=\"T_fcb1a_row14_col3\" class=\"data row14 col3\" >0</td>\n",
       "      <td id=\"T_fcb1a_row14_col4\" class=\"data row14 col4\" >25</td>\n",
       "      <td id=\"T_fcb1a_row14_col5\" class=\"data row14 col5\" >240</td>\n",
       "      <td id=\"T_fcb1a_row14_col6\" class=\"data row14 col6\" >254</td>\n",
       "      <td id=\"T_fcb1a_row14_col7\" class=\"data row14 col7\" >254</td>\n",
       "      <td id=\"T_fcb1a_row14_col8\" class=\"data row14 col8\" >34</td>\n",
       "      <td id=\"T_fcb1a_row14_col9\" class=\"data row14 col9\" >0</td>\n",
       "    </tr>\n",
       "  </tbody>\n",
       "</table>\n"
      ],
      "text/plain": [
       "<pandas.io.formats.style.Styler at 0x2a9eb376360>"
      ]
     },
     "execution_count": 11,
     "metadata": {},
     "output_type": "execute_result"
    }
   ],
   "source": [
    "im3_t = tensor(im3_np)\n",
    "df = pd.DataFrame(im3_t[5:20,10:20])\n",
    "df.style.set_properties(**{'font-size':'6pt'}).background_gradient('Greys')"
   ]
  },
  {
   "cell_type": "code",
   "execution_count": 12,
   "id": "91b93c45",
   "metadata": {},
   "outputs": [
    {
     "data": {
      "text/plain": [
       "(6131, 6265)"
      ]
     },
     "execution_count": 12,
     "metadata": {},
     "output_type": "execute_result"
    }
   ],
   "source": [
    "sevens_tensor = [tensor(Image.open(o)) for o in seven]\n",
    "threes_tensor = [tensor(Image.open(o)) for o in threes]\n",
    "len(threes_tensor), len(sevens_tensor)\n"
   ]
  },
  {
   "cell_type": "code",
   "execution_count": 13,
   "id": "1d88280d",
   "metadata": {},
   "outputs": [
    {
     "data": {
      "text/plain": [
       "<Axes: >"
      ]
     },
     "execution_count": 13,
     "metadata": {},
     "output_type": "execute_result"
    },
    {
     "data": {
      "image/png": "[encoded data removed]",
      "text/plain": [
       "<Figure size 100x100 with 1 Axes>"
      ]
     },
     "metadata": {},
     "output_type": "display_data"
    }
   ],
   "source": [
    "show_image(sevens_tensor[1])"
   ]
  },
  {
   "cell_type": "code",
   "execution_count": 14,
   "id": "32a6bd85",
   "metadata": {},
   "outputs": [
    {
     "data": {
      "text/plain": [
       "torch.Size([28, 28])"
      ]
     },
     "execution_count": 14,
     "metadata": {},
     "output_type": "execute_result"
    }
   ],
   "source": [
    "sevens_tensor[0].shape"
   ]
  },
  {
   "cell_type": "code",
   "execution_count": 15,
   "id": "b3320884",
   "metadata": {},
   "outputs": [
    {
     "data": {
      "text/plain": [
       "(torch.Size([6131, 28, 28]), torch.Size([6265, 28, 28]))"
      ]
     },
     "execution_count": 15,
     "metadata": {},
     "output_type": "execute_result"
    }
   ],
   "source": [
    "# Transform the image values to a float in the range [0, 1]\n",
    "stacked_sevens_tensor = torch.stack(sevens_tensor).float() / 255\n",
    "stacked_threes_tensor = torch.stack(threes_tensor).float() / 255\n",
    "stacked_threes_tensor.shape, stacked_sevens_tensor.shape"
   ]
  },
  {
   "cell_type": "code",
   "execution_count": 16,
   "id": "77d512db",
   "metadata": {},
   "outputs": [
    {
     "data": {
      "text/plain": [
       "(3, 3)"
      ]
     },
     "execution_count": 16,
     "metadata": {},
     "output_type": "execute_result"
    }
   ],
   "source": [
    "# Length of a tensor is always the rank\n",
    "len(stacked_threes_tensor.shape), len(stacked_sevens_tensor.shape)"
   ]
  },
  {
   "cell_type": "code",
   "execution_count": 17,
   "id": "9b34039e",
   "metadata": {},
   "outputs": [
    {
     "data": {
      "text/plain": [
       "(6131, 6131)"
      ]
     },
     "execution_count": 17,
     "metadata": {},
     "output_type": "execute_result"
    }
   ],
   "source": [
    "# Length of a tensor is the number of vectors in the first dimension \n",
    "# in this case the number of vectors of size 28 x 28\n",
    "len(stacked_threes_tensor), len(stacked_threes_tensor)"
   ]
  },
  {
   "cell_type": "code",
   "execution_count": 18,
   "id": "c0ed1b44",
   "metadata": {},
   "outputs": [
    {
     "data": {
      "text/plain": [
       "3"
      ]
     },
     "execution_count": 18,
     "metadata": {},
     "output_type": "execute_result"
    }
   ],
   "source": [
    "stacked_sevens_tensor.ndim"
   ]
  },
  {
   "cell_type": "code",
   "execution_count": 19,
   "id": "2aa0fa43",
   "metadata": {},
   "outputs": [
    {
     "data": {
      "text/plain": [
       "tensor([[0.5665, 0.5484, 0.5018, 0.4607, 0.4396],\n",
       "        [0.3799, 0.3198, 0.2511, 0.2084, 0.2000],\n",
       "        [0.2257, 0.1553, 0.0952, 0.0710, 0.0905],\n",
       "        [0.1261, 0.0682, 0.0358, 0.0326, 0.0805],\n",
       "        [0.0711, 0.0433, 0.0331, 0.0472, 0.1342]])"
      ]
     },
     "execution_count": 19,
     "metadata": {},
     "output_type": "execute_result"
    }
   ],
   "source": [
    "# Since all the images are scaled, we are going to compute a mean to look at an ideal image\n",
    "mean_sevens = stacked_sevens_tensor.mean(dim=0)\n",
    "mean_sevens[10:15, 10:15]\n"
   ]
  },
  {
   "cell_type": "code",
   "execution_count": 20,
   "id": "d1b47c8a",
   "metadata": {},
   "outputs": [
    {
     "data": {
      "text/plain": [
       "tensor([[0.0952, 0.1253, 0.1803, 0.2742, 0.4027],\n",
       "        [0.1396, 0.2331, 0.3551, 0.4887, 0.6099],\n",
       "        [0.2776, 0.4349, 0.5836, 0.7028, 0.7715],\n",
       "        [0.3944, 0.5657, 0.6985, 0.7672, 0.7795],\n",
       "        [0.3902, 0.5216, 0.6026, 0.6287, 0.6276]])"
      ]
     },
     "execution_count": 20,
     "metadata": {},
     "output_type": "execute_result"
    }
   ],
   "source": [
    "mean_threes = stacked_threes_tensor.mean(dim=0)\n",
    "mean_threes[10:15, 10:15]\n",
    "#mean_threes.shape"
   ]
  },
  {
   "cell_type": "code",
   "execution_count": 21,
   "id": "f8ccfb6e",
   "metadata": {},
   "outputs": [
    {
     "data": {
      "text/plain": [
       "<Axes: >"
      ]
     },
     "execution_count": 21,
     "metadata": {},
     "output_type": "execute_result"
    },
    {
     "data": {
      "image/png": "[encoded data removed]",
      "text/plain": [
       "<Figure size 100x100 with 1 Axes>"
      ]
     },
     "metadata": {},
     "output_type": "display_data"
    }
   ],
   "source": [
    "show_image(mean_threes)"
   ]
  },
  {
   "cell_type": "code",
   "execution_count": 22,
   "id": "004688c8",
   "metadata": {},
   "outputs": [
    {
     "data": {
      "text/plain": [
       "<Axes: >"
      ]
     },
     "execution_count": 22,
     "metadata": {},
     "output_type": "execute_result"
    },
    {
     "data": {
      "image/png": "[encoded data removed]",
      "text/plain": [
       "<Figure size 100x100 with 1 Axes>"
      ]
     },
     "metadata": {},
     "output_type": "display_data"
    }
   ],
   "source": [
    "show_image(stacked_threes_tensor[0])"
   ]
  },
  {
   "cell_type": "code",
   "execution_count": 23,
   "id": "7611906a",
   "metadata": {},
   "outputs": [
    {
     "data": {
      "text/plain": [
       "tensor(0.1069)"
      ]
     },
     "execution_count": 23,
     "metadata": {},
     "output_type": "execute_result"
    }
   ],
   "source": [
    "# L1 Norm - absolute difference between the two tensors -\n",
    "# Available in pytorch as toch.nn.functional which is imported as F\n",
    "F.l1_loss(mean_threes, mean_sevens)\n"
   ]
  },
  {
   "cell_type": "code",
   "execution_count": 24,
   "id": "ce447482",
   "metadata": {},
   "outputs": [
    {
     "data": {
      "text/plain": [
       "tensor(0.0349)"
      ]
     },
     "execution_count": 24,
     "metadata": {},
     "output_type": "execute_result"
    }
   ],
   "source": [
    "# MSE - Mean Squared Error is also available in pytorch functional\n",
    "F.mse_loss(mean_threes, mean_sevens)"
   ]
  },
  {
   "cell_type": "code",
   "execution_count": 25,
   "id": "9ecb38e6",
   "metadata": {},
   "outputs": [],
   "source": [
    "#Create a validation set\n",
    "validation_3_tensor = torch.stack([tensor(Image.open(o)) for o in (path/'valid'/'3').ls().sorted()]).float() / 255\n",
    "validation_7_tensor = torch.stack([tensor(Image.open(o)) for o in (path/'valid'/'7').ls().sorted()]).float() / 255"
   ]
  },
  {
   "cell_type": "code",
   "execution_count": 60,
   "id": "f307a3e0",
   "metadata": {},
   "outputs": [
    {
     "data": {
      "text/plain": [
       "(torch.Size([1010, 28, 28]), torch.Size([1028, 28, 28]), 3)"
      ]
     },
     "execution_count": 60,
     "metadata": {},
     "output_type": "execute_result"
    }
   ],
   "source": [
    "validation_3_tensor.shape, validation_7_tensor.shape, validation_3_tensor.ndim\n"
   ]
  },
  {
   "cell_type": "code",
   "execution_count": 69,
   "id": "38d9a86d",
   "metadata": {},
   "outputs": [],
   "source": [
    "def mnist_distance(t1, t2):\n",
    "    \"Compute the distance between two MNIST tensors\"\n",
    "    return (t1 - t2).abs().mean((-1,-2))"
   ]
  },
  {
   "cell_type": "code",
   "execution_count": 70,
   "id": "f1d2a18a",
   "metadata": {},
   "outputs": [
    {
     "data": {
      "text/plain": [
       "torch.Size([1010, 28, 28])"
      ]
     },
     "execution_count": 70,
     "metadata": {},
     "output_type": "execute_result"
    }
   ],
   "source": [
    "valid_mnist_method = mnist_distance(validation_3_tensor,mean_threes)\n",
    "validation_3_tensor.shape"
   ]
  },
  {
   "cell_type": "code",
   "execution_count": null,
   "id": "67743a8f",
   "metadata": {},
   "outputs": [],
   "source": [
    "def is_3(x):\n",
    "    \"Check if the distance is less than 0.1\"\n",
    "    return mnist_distance(x, mean_threes) < mnist_distance(x, mean_sevens)"
   ]
  }
 ],
 "metadata": {
  "kernelspec": {
   "display_name": "myDeepLearningEnv",
   "language": "python",
   "name": "python3"
  },
  "language_info": {
   "codemirror_mode": {
    "name": "ipython",
    "version": 3
   },
   "file_extension": ".py",
   "mimetype": "text/x-python",
   "name": "python",
   "nbconvert_exporter": "python",
   "pygments_lexer": "ipython3",
   "version": "3.12.10"
  }
 },
 "nbformat": 4,
 "nbformat_minor": 5
}
