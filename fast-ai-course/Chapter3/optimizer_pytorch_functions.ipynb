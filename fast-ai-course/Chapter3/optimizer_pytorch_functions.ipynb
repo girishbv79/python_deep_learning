{
 "cells": [
  {
   "cell_type": "code",
   "execution_count": 22,
   "id": "261414d0",
   "metadata": {},
   "outputs": [],
   "source": [
    "import fastbook\n",
    "from fastbook import * \n",
    "from fastai.vision.all import *"
   ]
  },
  {
   "cell_type": "code",
   "execution_count": 23,
   "id": "94297271",
   "metadata": {},
   "outputs": [],
   "source": [
    "path = untar_data(URLs.MNIST_SAMPLE)\n",
    "threes = (path/'train'/'3')\n",
    "sevens = (path/'train'/'7')"
   ]
  },
  {
   "cell_type": "code",
   "execution_count": 24,
   "id": "be181346",
   "metadata": {},
   "outputs": [
    {
     "data": {
      "text/plain": [
       "(torch.Size([6131, 784]), torch.Size([6265, 784]), torch.Size([12396]))"
      ]
     },
     "execution_count": 24,
     "metadata": {},
     "output_type": "execute_result"
    }
   ],
   "source": [
    "stacked_threes = torch.stack([tensor(Image.open(o)) for o in threes.ls()]).float().view(-1, 28*28)\n",
    "stacked_sevens = torch.stack([tensor(Image.open(o)) for o in sevens.ls()]).float().view(-1, 28*28)\n",
    "# Label below\n",
    "stacked_labels = torch.cat([torch.zeros(len(stacked_threes)), torch.ones(len(stacked_sevens))])\n",
    "stacked_threes.shape, stacked_sevens.shape, stacked_labels.shape"
   ]
  },
  {
   "cell_type": "code",
   "execution_count": 25,
   "id": "72080ef6",
   "metadata": {},
   "outputs": [],
   "source": [
    "# create a dataset and dataloader for our epoch\n",
    "dataset = list(zip(torch.cat([stacked_threes, stacked_sevens]), stacked_labels))\n",
    "dl = DataLoader(dataset, batch_size=64, shuffle=True) "
   ]
  },
  {
   "cell_type": "code",
   "execution_count": 26,
   "id": "f9b16b6d",
   "metadata": {},
   "outputs": [],
   "source": [
    "def batch_accuracy(preds, targs):\n",
    "    preds = preds.sigmoid()\n",
    "    return (preds > 0.5).eq(targs).float().mean()"
   ]
  },
  {
   "cell_type": "code",
   "execution_count": 41,
   "id": "0ed23328",
   "metadata": {},
   "outputs": [],
   "source": [
    "def validate_epoch(model):\n",
    "    accs = [batch_accuracy(model(x),y) for x,y in dl]\n",
    "    return round(torch.stack(accs).mean().item(),4)"
   ]
  },
  {
   "cell_type": "code",
   "execution_count": 28,
   "id": "60c74a26",
   "metadata": {},
   "outputs": [],
   "source": [
    "linear_model = nn.Linear(28*28, 1)"
   ]
  },
  {
   "cell_type": "code",
   "execution_count": 29,
   "id": "00116eac",
   "metadata": {},
   "outputs": [
    {
     "data": {
      "text/plain": [
       "(torch.Size([1, 784]), torch.Size([1]))"
      ]
     },
     "execution_count": 29,
     "metadata": {},
     "output_type": "execute_result"
    }
   ],
   "source": [
    "w,b = linear_model.parameters()\n",
    "w.shape, b.shape"
   ]
  },
  {
   "cell_type": "code",
   "execution_count": 30,
   "id": "8c9408c5",
   "metadata": {},
   "outputs": [],
   "source": [
    "class BasicOptimizer:\n",
    "    def __init__(self, params, lr=0.01):\n",
    "        self.params = list(params)\n",
    "        self.lr = lr\n",
    "\n",
    "    def step(self):\n",
    "        for p in self.params:\n",
    "            p.data -= self.lr * p.grad.data\n",
    "\n",
    "    def zero_grad(self):\n",
    "        for p in self.params:\n",
    "            p.grad = None"
   ]
  },
  {
   "cell_type": "code",
   "execution_count": 31,
   "id": "a24f4c16",
   "metadata": {},
   "outputs": [],
   "source": [
    "opt = BasicOptimizer(linear_model.parameters(), lr=0.01)"
   ]
  },
  {
   "cell_type": "code",
   "execution_count": 32,
   "id": "c6f6e446",
   "metadata": {},
   "outputs": [],
   "source": [
    "def mnist_loss(preds, targs):\n",
    "    preds_sigmoid = preds.sigmoid()\n",
    "    return torch.where(targs == 1, 1-preds_sigmoid,  preds_sigmoid).mean()"
   ]
  },
  {
   "cell_type": "code",
   "execution_count": 33,
   "id": "08565a65",
   "metadata": {},
   "outputs": [],
   "source": [
    "def calc_grad(x, y, model):\n",
    "    preds = model(x)\n",
    "    loss = mnist_loss(preds, y)\n",
    "    loss.backward()\n",
    "    return loss"
   ]
  },
  {
   "cell_type": "code",
   "execution_count": 34,
   "id": "5b9b0705",
   "metadata": {},
   "outputs": [],
   "source": [
    "# Start the epoch for the calculation\n",
    "def train_epoch(dl, model, opt):\n",
    "    for x, y in dl:\n",
    "        calc_grad(x, y, model)\n",
    "        opt.step()\n",
    "        opt.zero_grad()\n",
    "\n",
    "        "
   ]
  },
  {
   "cell_type": "code",
   "execution_count": 35,
   "id": "c44985ad",
   "metadata": {},
   "outputs": [],
   "source": [
    "def train_model(model,  epochs=1):\n",
    "    for epoch in range(epochs):\n",
    "        train_epoch(dl, model, opt)\n",
    "        acc = validate_epoch(model)\n",
    "        print(f'Epoch {epoch+1}/{epochs}, Accuracy: {acc}')"
   ]
  },
  {
   "cell_type": "code",
   "execution_count": 44,
   "id": "1c1660e1",
   "metadata": {},
   "outputs": [
    {
     "name": "stdout",
     "output_type": "stream",
     "text": [
      "Epoch 1/10, Accuracy: 0.5073\n",
      "Epoch 2/10, Accuracy: 0.5072\n",
      "Epoch 3/10, Accuracy: 0.5085\n",
      "Epoch 4/10, Accuracy: 0.5078\n",
      "Epoch 5/10, Accuracy: 0.5082\n",
      "Epoch 6/10, Accuracy: 0.5065\n",
      "Epoch 7/10, Accuracy: 0.5073\n",
      "Epoch 8/10, Accuracy: 0.5068\n",
      "Epoch 9/10, Accuracy: 0.5074\n",
      "Epoch 10/10, Accuracy: 0.5085\n"
     ]
    }
   ],
   "source": [
    "train_model(linear_model, epochs=10)"
   ]
  },
  {
   "cell_type": "code",
   "execution_count": null,
   "id": "71e177bc",
   "metadata": {},
   "outputs": [],
   "source": []
  }
 ],
 "metadata": {
  "kernelspec": {
   "display_name": "myDeepLearningEnv",
   "language": "python",
   "name": "python3"
  },
  "language_info": {
   "codemirror_mode": {
    "name": "ipython",
    "version": 3
   },
   "file_extension": ".py",
   "mimetype": "text/x-python",
   "name": "python",
   "nbconvert_exporter": "python",
   "pygments_lexer": "ipython3",
   "version": "3.12.10"
  }
 },
 "nbformat": 4,
 "nbformat_minor": 5
}
