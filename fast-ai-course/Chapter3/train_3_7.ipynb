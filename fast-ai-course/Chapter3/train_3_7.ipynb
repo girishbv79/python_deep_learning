{
 "cells": [
  {
   "cell_type": "code",
   "execution_count": 1,
   "id": "05cc4475",
   "metadata": {},
   "outputs": [],
   "source": [
    "import fastbook\n",
    "fastbook.setup_book()\n",
    "from fastai.vision.all import *"
   ]
  },
  {
   "cell_type": "code",
   "execution_count": 18,
   "id": "8496fe09",
   "metadata": {},
   "outputs": [
    {
     "data": {
      "text/plain": [
       "(tensor([[-0.6890, -1.1267, -0.2858, -1.0935],\n",
       "         [ 1.1351,  0.7592, -3.5945,  0.0192],\n",
       "         [ 0.1052,  0.9603, -0.5672, -0.5706]]),\n",
       " tensor([[-0.6890, -1.1267, -0.2858, -1.0935,  1.1351,  0.7592, -3.5945,  0.0192,  0.1052,  0.9603, -0.5672, -0.5706]]))"
      ]
     },
     "execution_count": 18,
     "metadata": {},
     "output_type": "execute_result"
    }
   ],
   "source": [
    "# Test to view the behavior of view with -1\n",
    "p = torch.randn(3, 4)\n",
    "v = p.view(-1, 12)\n",
    "p, v"
   ]
  },
  {
   "cell_type": "code",
   "execution_count": 4,
   "id": "1cebb213",
   "metadata": {},
   "outputs": [],
   "source": [
    "Path = untar_data(URLs.MNIST_SAMPLE)"
   ]
  },
  {
   "cell_type": "code",
   "execution_count": 6,
   "id": "667f85e5",
   "metadata": {},
   "outputs": [],
   "source": [
    "threes = (Path/'train'/'3')\n",
    "sevens = (Path/'train'/'7')"
   ]
  },
  {
   "cell_type": "code",
   "execution_count": 7,
   "id": "acb9a53d",
   "metadata": {},
   "outputs": [],
   "source": [
    "stacked_threes = torch.stack([tensor(Image.open(o)) for o in threes.ls()])\n",
    "stacked_sevens = torch.stack([tensor(Image.open(o)) for o in sevens.ls()])"
   ]
  },
  {
   "cell_type": "code",
   "execution_count": 8,
   "id": "9c27b7ed",
   "metadata": {},
   "outputs": [
    {
     "data": {
      "text/plain": [
       "(torch.Size([6131, 28, 28]), torch.Size([6265, 28, 28]))"
      ]
     },
     "execution_count": 8,
     "metadata": {},
     "output_type": "execute_result"
    }
   ],
   "source": [
    "stacked_threes.shape, stacked_sevens.shape"
   ]
  },
  {
   "cell_type": "code",
   "execution_count": 17,
   "id": "53373a6b",
   "metadata": {},
   "outputs": [
    {
     "data": {
      "text/plain": [
       "(torch.Size([12396, 1]), torch.Size([12396, 784]))"
      ]
     },
     "execution_count": 17,
     "metadata": {},
     "output_type": "execute_result"
    }
   ],
   "source": [
    "threes_and_sevens = torch.cat([stacked_threes, stacked_sevens]).view(-1, 28*28)\n",
    "threes_and_sevens.shape\n",
    "labels_threes_and_sevens = tensor([1]*len(stacked_threes) + [0]*len(stacked_sevens)).unsqueeze(1)\n",
    "labels_threes_and_sevens.shape, threes_and_sevens.shape\n"
   ]
  },
  {
   "cell_type": "code",
   "execution_count": 22,
   "id": "0d04c665",
   "metadata": {},
   "outputs": [],
   "source": [
    "# create a DataLoader and a dataset, dataloader further batches the data for each run\n",
    "dset = list(zip(threes_and_sevens, labels_threes_and_sevens))\n",
    "dl = DataLoader(dset, batch_size=64, shuffle=True)"
   ]
  },
  {
   "cell_type": "code",
   "execution_count": 26,
   "id": "5a1972e9",
   "metadata": {},
   "outputs": [
    {
     "data": {
      "text/plain": [
       "(torch.Size([784]), torch.Size([1]))"
      ]
     },
     "execution_count": 26,
     "metadata": {},
     "output_type": "execute_result"
    }
   ],
   "source": [
    "# Initialize weights and biases\n",
    "def init_weights(x, b):\n",
    "    w = torch.randn(x).requires_grad_()\n",
    "    bias = torch.randn(b).requires_grad_()\n",
    "    return (w,bias)\n",
    "weights, bias = init_weights(28*28, 1)\n",
    "weights.shape, bias.shape\n"
   ]
  },
  {
   "cell_type": "code",
   "execution_count": 27,
   "id": "af335534",
   "metadata": {},
   "outputs": [],
   "source": [
    "# define the model\n",
    "def model(x, w, bias):\n",
    "    return x@w + bias"
   ]
  },
  {
   "cell_type": "code",
   "execution_count": 28,
   "id": "6b5ed545",
   "metadata": {},
   "outputs": [],
   "source": [
    "def loss(preds, labels):\n",
    "    return torch.where(labels == 1, 1-preds, preds).mean()"
   ]
  },
  {
   "cell_type": "code",
   "execution_count": null,
   "id": "eb2789e2",
   "metadata": {},
   "outputs": [],
   "source": [
    "def train_epoch(dl, w, b):\n",
    "    for x, y in dl:\n",
    "        preds = model(x, w, b)\n",
    "        l = loss(preds, y)\n",
    "        l.backward()\n",
    "        with torch.no_grad():\n",
    "            w -= w.grad * 0.01\n",
    "            b -= b.grad * 0.01\n",
    "            w.grad.zero_()\n",
    "            b.grad.zero_()\n",
    "    return preds"
   ]
  },
  {
   "cell_type": "code",
   "execution_count": null,
   "id": "5649d0b0",
   "metadata": {},
   "outputs": [
    {
     "ename": "TypeError",
     "evalue": "unsupported operand type(s) for @: 'tuple' and 'Tensor'",
     "output_type": "error",
     "traceback": [
      "\u001b[31m---------------------------------------------------------------------------\u001b[39m",
      "\u001b[31mTypeError\u001b[39m                                 Traceback (most recent call last)",
      "\u001b[36mCell\u001b[39m\u001b[36m \u001b[39m\u001b[32mIn[30]\u001b[39m\u001b[32m, line 3\u001b[39m\n\u001b[32m      1\u001b[39m dset_new = \u001b[38;5;28mlist\u001b[39m(\u001b[38;5;28mzip\u001b[39m(threes_and_sevens[:\u001b[32m4\u001b[39m], labels_threes_and_sevens[:\u001b[32m4\u001b[39m]))\n\u001b[32m      2\u001b[39m dl_new = DataLoader(dset_new, batch_size=\u001b[32m64\u001b[39m, shuffle=\u001b[38;5;28;01mTrue\u001b[39;00m) \n\u001b[32m----> \u001b[39m\u001b[32m3\u001b[39m preds = \u001b[43mmodel\u001b[49m\u001b[43m(\u001b[49m\u001b[43mdl_new\u001b[49m\u001b[43m.\u001b[49m\u001b[43mdataset\u001b[49m\u001b[43m[\u001b[49m\u001b[32;43m0\u001b[39;49m\u001b[43m]\u001b[49m\u001b[43m,\u001b[49m\u001b[43m \u001b[49m\u001b[43mweights\u001b[49m\u001b[43m,\u001b[49m\u001b[43m \u001b[49m\u001b[43mbias\u001b[49m\u001b[43m)\u001b[49m\n",
      "\u001b[36mCell\u001b[39m\u001b[36m \u001b[39m\u001b[32mIn[27]\u001b[39m\u001b[32m, line 3\u001b[39m, in \u001b[36mmodel\u001b[39m\u001b[34m(x, w, bias)\u001b[39m\n\u001b[32m      2\u001b[39m \u001b[38;5;28;01mdef\u001b[39;00m\u001b[38;5;250m \u001b[39m\u001b[34mmodel\u001b[39m(x, w, bias):\n\u001b[32m----> \u001b[39m\u001b[32m3\u001b[39m     \u001b[38;5;28;01mreturn\u001b[39;00m \u001b[43mx\u001b[49m\u001b[38;5;129;43m@w\u001b[39;49m + bias\n",
      "\u001b[31mTypeError\u001b[39m: unsupported operand type(s) for @: 'tuple' and 'Tensor'"
     ]
    }
   ],
   "source": [
    "dset_new = list(zip(threes_and_sevens[:4], labels_threes_and_sevens[:4]))\n",
    "dl_new = DataLoader(dset_new, batch_size=64, shuffle=True) \n",
    "preds = model(dl_new.x, weights, bias)\n"
   ]
  },
  {
   "cell_type": "code",
   "execution_count": null,
   "id": "28e5335e",
   "metadata": {},
   "outputs": [],
   "source": []
  }
 ],
 "metadata": {
  "kernelspec": {
   "display_name": "myDeepLearningEnv",
   "language": "python",
   "name": "python3"
  },
  "language_info": {
   "codemirror_mode": {
    "name": "ipython",
    "version": 3
   },
   "file_extension": ".py",
   "mimetype": "text/x-python",
   "name": "python",
   "nbconvert_exporter": "python",
   "pygments_lexer": "ipython3",
   "version": "3.12.10"
  }
 },
 "nbformat": 4,
 "nbformat_minor": 5
}
