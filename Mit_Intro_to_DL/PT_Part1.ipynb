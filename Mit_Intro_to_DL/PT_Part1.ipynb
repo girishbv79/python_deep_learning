{
 "cells": [
  {
   "cell_type": "code",
   "execution_count": 3,
   "id": "7eb47d1e",
   "metadata": {},
   "outputs": [],
   "source": [
    "import torch\n",
    "import torch.nn as nn\n",
    "import torch.nn.functional as F\n",
    "import mitdeeplearning as mdl"
   ]
  },
  {
   "cell_type": "code",
   "execution_count": 4,
   "id": "c4e6fbf3",
   "metadata": {},
   "outputs": [],
   "source": [
    "import numpy as np\n",
    "import matplotlib.pyplot as plt"
   ]
  },
  {
   "cell_type": "code",
   "execution_count": 5,
   "id": "ccc66b19",
   "metadata": {},
   "outputs": [
    {
     "name": "stdout",
     "output_type": "stream",
     "text": [
      "integer shape is torch.Size([]), float_tensor shape is torch.Size([])\n",
      "integer is 1, float_tensor is 1.0\n"
     ]
    }
   ],
   "source": [
    "integer = torch.tensor(1)\n",
    "float_tensor = torch.tensor(1.0)\n",
    "print(f\"integer shape is {integer.shape}, float_tensor shape is {float_tensor.shape}\")\n",
    "print(f\"integer is {integer}, float_tensor is {float_tensor}\")"
   ]
  },
  {
   "cell_type": "code",
   "execution_count": 6,
   "id": "7ae437c6",
   "metadata": {},
   "outputs": [
    {
     "name": "stdout",
     "output_type": "stream",
     "text": [
      "fib shape is torch.Size([10]), fib is tensor([ 0,  1,  1,  2,  3,  5,  8, 13, 21, 34])\n",
      "fib shape is torch.Size([15]), fib is tensor([ 0,  1,  2,  3,  4,  5,  6,  7,  8,  9, 10, 11, 12, 13, 14])\n"
     ]
    }
   ],
   "source": [
    "fib = torch.tensor([0, 1, 1, 2, 3, 5, 8, 13, 21, 34])\n",
    "print(f\"fib shape is {fib.shape}, fib is {fib}\")\n",
    "rand = torch.tensor(range(15))\n",
    "print(f\"fib shape is {rand.shape}, fib is {rand}\")\n"
   ]
  },
  {
   "cell_type": "code",
   "execution_count": 7,
   "id": "f03dcceb",
   "metadata": {},
   "outputs": [
    {
     "name": "stdout",
     "output_type": "stream",
     "text": [
      "matrix shape is torch.Size([2, 3]), matrix is tensor([[1, 2, 3],\n",
      "        [4, 5, 6]])\n"
     ]
    }
   ],
   "source": [
    "# 2D matrix example\n",
    "matrix = torch.tensor([[1, 2, 3], [4, 5, 6]])\n",
    "print(f\"matrix shape is {matrix.shape}, matrix is {matrix}\")\n",
    "assert isinstance(matrix, torch.Tensor), \"matrix must be a torch Tensor object\"\n",
    "assert matrix.ndim == 2"
   ]
  },
  {
   "cell_type": "code",
   "execution_count": 8,
   "id": "34d26cd7",
   "metadata": {},
   "outputs": [
    {
     "name": "stdout",
     "output_type": "stream",
     "text": [
      "tensor_4d shape is torch.Size([10, 3, 256, 256])\n"
     ]
    }
   ],
   "source": [
    "# 4 D Tensor example\n",
    "tensor_4d = torch.zeros((10, 3, 256, 256))\n",
    "print(f\"tensor_4d shape is {tensor_4d.shape}\")\n",
    "assert isinstance(tensor_4d, torch.Tensor), \"images must be a torch Tensor object\"\n",
    "assert tensor_4d.ndim == 4, \"images must have 4 dimensions\"\n",
    "assert tensor_4d.shape == (10, 3, 256, 256), \"images is incorrect shape\""
   ]
  },
  {
   "cell_type": "code",
   "execution_count": 9,
   "id": "23f2a863",
   "metadata": {},
   "outputs": [
    {
     "data": {
      "text/plain": [
       "tensor([4, 5, 6])"
      ]
     },
     "execution_count": 9,
     "metadata": {},
     "output_type": "execute_result"
    }
   ],
   "source": [
    "# Slicing operations - second row of the matrix\n",
    "row_vector = matrix[1]\n",
    "row_vector"
   ]
  },
  {
   "cell_type": "code",
   "execution_count": 10,
   "id": "12f43ae5",
   "metadata": {},
   "outputs": [],
   "source": [
    "def func(a, b):\n",
    "    c = a + b\n",
    "    d = b -1\n",
    "    e = c * d\n",
    "    return e"
   ]
  },
  {
   "cell_type": "code",
   "execution_count": 11,
   "id": "9e70336c",
   "metadata": {},
   "outputs": [
    {
     "name": "stdout",
     "output_type": "stream",
     "text": [
      "Result of func(2.5, 3.5) is 15.0\n"
     ]
    }
   ],
   "source": [
    "a, b = 2.5, 3.5\n",
    "result = func(a, b)\n",
    "print(f\"Result of func({a}, {b}) is {result}\")"
   ]
  },
  {
   "cell_type": "code",
   "execution_count": 12,
   "id": "cded73e4",
   "metadata": {},
   "outputs": [],
   "source": [
    "### Define a Dense Layer ###\n",
    "# num inputs : input nodes\n",
    "# num outputs : output nodes\n",
    "# x: input to the layer\n",
    "class DenseLayer(torch.nn.Module):\n",
    "    def __init__(self, num_inputs, num_outputs):\n",
    "        super(DenseLayer, self).__init__()\n",
    "        self.w = torch.nn.Parameter(torch.randn(num_inputs, num_outputs))\n",
    "        self.bias = torch.nn.Parameter(torch.randn(num_outputs))\n",
    "        \n",
    "    def forward(self, x):\n",
    "        return torch.sigmoid(x @ self.w + self.bias)"
   ]
  },
  {
   "cell_type": "code",
   "execution_count": 13,
   "id": "98bf5749",
   "metadata": {},
   "outputs": [],
   "source": [
    "# Test the output\n",
    "no_inputs = 2\n",
    "num_outputs = 3\n",
    "dense_layer = DenseLayer(no_inputs, num_outputs)\n",
    "x = torch.tensor([[1.0, 2.0], [3.0, 4.0]])\n",
    "output = dense_layer(x)"
   ]
  },
  {
   "cell_type": "code",
   "execution_count": 15,
   "id": "6b7a9a2d",
   "metadata": {},
   "outputs": [
    {
     "data": {
      "text/plain": [
       "(torch.Size([2, 3]),\n",
       " tensor([[0.5191, 0.9866, 0.2618],\n",
       "         [0.3106, 1.0000, 0.4772]], grad_fn=<SigmoidBackward0>))"
      ]
     },
     "execution_count": 15,
     "metadata": {},
     "output_type": "execute_result"
    }
   ],
   "source": [
    "# For each x value above, we expect a Y value - since the number of outputs is 3\n",
    "# we expect the output to be a 2x3 matrix\n",
    "output.shape, output"
   ]
  },
  {
   "cell_type": "code",
   "execution_count": null,
   "id": "4fcce903",
   "metadata": {},
   "outputs": [],
   "source": []
  }
 ],
 "metadata": {
  "kernelspec": {
   "display_name": "deepLearningEnv",
   "language": "python",
   "name": "python3"
  },
  "language_info": {
   "codemirror_mode": {
    "name": "ipython",
    "version": 3
   },
   "file_extension": ".py",
   "mimetype": "text/x-python",
   "name": "python",
   "nbconvert_exporter": "python",
   "pygments_lexer": "ipython3",
   "version": "3.12.7"
  }
 },
 "nbformat": 4,
 "nbformat_minor": 5
}
